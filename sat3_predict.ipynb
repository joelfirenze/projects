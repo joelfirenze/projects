{
 "cells": [
  {
   "cell_type": "code",
   "execution_count": 1,
   "metadata": {},
   "outputs": [
    {
     "name": "stderr",
     "output_type": "stream",
     "text": [
      "Using TensorFlow backend.\n"
     ]
    }
   ],
   "source": [
    "import keras\n",
    "import numpy as np\n",
    "from matplotlib import pyplot as plt\n",
    "import numpy as np\n",
    "from PIL import Image\n",
    "from keras.models import load_model\n",
    "from skimage.transform import resize\n",
    "import cv2"
   ]
  },
  {
   "cell_type": "code",
   "execution_count": null,
   "metadata": {},
   "outputs": [],
   "source": []
  },
  {
   "cell_type": "code",
   "execution_count": 2,
   "metadata": {},
   "outputs": [],
   "source": [
    "labels = {\"0\": \"Forest\", \"1\": \"River\", \"2\": \"Highway\", \"3\": \"AnnualCrop\", \"4\": \"SeaLake\", \"5\": \"HerbaceousVegetation\", \"6\": \"Industrial\", \"7\": \"Residential\", \"8\": \"PermanentCrop\", \"9\": \"Pasture\"}"
   ]
  },
  {
   "cell_type": "code",
   "execution_count": 3,
   "metadata": {},
   "outputs": [
    {
     "name": "stdout",
     "output_type": "stream",
     "text": [
      "WARNING:tensorflow:From /Library/Frameworks/Python.framework/Versions/3.6/lib/python3.6/site-packages/keras/backend/tensorflow_backend.py:4070: The name tf.nn.max_pool is deprecated. Please use tf.nn.max_pool2d instead.\n",
      "\n"
     ]
    }
   ],
   "source": [
    "model = load_model('/Users/shiqinchoo/Desktop/satellite/sat_rgb.h5', compile = False)"
   ]
  },
  {
   "cell_type": "code",
   "execution_count": 4,
   "metadata": {},
   "outputs": [],
   "source": [
    "file1 = '/Users/shiqinchoo/Desktop/satellite/ac/AnnualCrop_1.jpg'"
   ]
  },
  {
   "cell_type": "code",
   "execution_count": 5,
   "metadata": {},
   "outputs": [
    {
     "name": "stdout",
     "output_type": "stream",
     "text": [
      "WARNING:tensorflow:From /Library/Frameworks/Python.framework/Versions/3.6/lib/python3.6/site-packages/keras/backend/tensorflow_backend.py:422: The name tf.global_variables is deprecated. Please use tf.compat.v1.global_variables instead.\n",
      "\n",
      "AnnualCrop\n"
     ]
    }
   ],
   "source": [
    "img = plt.imread(file1)\n",
    "img = img[...,::-1]\n",
    "img = resize(img, (64,64,3))\n",
    "img = np.reshape(img, [1,64,64,3])\n",
    "prediction = model.predict(img)\n",
    "print(labels[str(prediction.argmax())])"
   ]
  },
  {
   "cell_type": "code",
   "execution_count": 7,
   "metadata": {},
   "outputs": [
    {
     "name": "stdout",
     "output_type": "stream",
     "text": [
      "AnnualCrop\n"
     ]
    }
   ],
   "source": [
    "img = plt.imread(file1)\n",
    "img = resize(img, (64,64,3))\n",
    "img = np.reshape(img, [1,64,64,3])\n",
    "prediction = model.predict(img)\n",
    "print(labels[str(prediction.argmax())])"
   ]
  },
  {
   "cell_type": "code",
   "execution_count": 6,
   "metadata": {},
   "outputs": [
    {
     "name": "stdout",
     "output_type": "stream",
     "text": [
      "AnnualCrop\n"
     ]
    }
   ],
   "source": [
    "img = cv2.imread(file1)\n",
    "img = resize(img, (64,64,3))\n",
    "img = np.reshape(img, [1,64,64,3])\n",
    "prediction = model.predict(img)\n",
    "print(labels[str(prediction.argmax())])"
   ]
  },
  {
   "cell_type": "code",
   "execution_count": 8,
   "metadata": {},
   "outputs": [
    {
     "name": "stdout",
     "output_type": "stream",
     "text": [
      "AnnualCrop\n"
     ]
    }
   ],
   "source": [
    "file2 = '/Users/shiqinchoo/Desktop/satellite/ac/AnnualCrop_2.jpg'\n",
    "\n",
    "img = Image.open(file2)\n",
    "img = plt.imread(file2)\n",
    "img = img[...,::-1]\n",
    "img = resize(img, (64,64,3))\n",
    "img = np.reshape(img, [1,64,64,3])\n",
    "prediction = model.predict(img)\n",
    "print(labels[str(prediction.argmax())])"
   ]
  },
  {
   "cell_type": "code",
   "execution_count": 9,
   "metadata": {},
   "outputs": [
    {
     "name": "stdout",
     "output_type": "stream",
     "text": [
      "Forest\n"
     ]
    }
   ],
   "source": [
    "file3 = '/Users/shiqinchoo/Desktop/satellite/fr/Forest_2.jpg'\n",
    "img = Image.open(file3)\n",
    "img = plt.imread(file3)\n",
    "img = img[...,::-1]\n",
    "img = resize(img, (64,64,3))\n",
    "img = np.reshape(img, [1,64,64,3])\n",
    "prediction = model.predict(img)\n",
    "print(labels[str(prediction.argmax())])\n"
   ]
  },
  {
   "cell_type": "code",
   "execution_count": 10,
   "metadata": {},
   "outputs": [
    {
     "name": "stdout",
     "output_type": "stream",
     "text": [
      "Forest\n"
     ]
    }
   ],
   "source": [
    "file3 = '/Users/shiqinchoo/Desktop/satellite/fr/Forest_2.jpg'\n",
    "\n",
    "img = Image.open(file3)\n",
    "img = cv2.imread(file3)\n",
    "img = resize(img, (64,64,3))\n",
    "img = np.reshape(img, [1,64,64,3])\n",
    "prediction = model.predict(img)\n",
    "print(labels[str(prediction.argmax())])"
   ]
  },
  {
   "cell_type": "code",
   "execution_count": 11,
   "metadata": {},
   "outputs": [
    {
     "name": "stdout",
     "output_type": "stream",
     "text": [
      "Forest\n"
     ]
    }
   ],
   "source": [
    "file3 = '/Users/shiqinchoo/Desktop/satellite/fr/Forest_2.jpg'\n",
    "img = cv2.imread(file3)\n",
    "img = resize(img, (64,64,3))\n",
    "img = np.reshape(img, [1,64,64,3])\n",
    "prediction = model.predict(img)\n",
    "print(labels[str(prediction.argmax())])"
   ]
  },
  {
   "cell_type": "code",
   "execution_count": 12,
   "metadata": {},
   "outputs": [],
   "source": [
    "def cv_read(file):\n",
    "    img = cv2.imread(file)\n",
    "    img = resize(img, (64,64,3))\n",
    "    img = np.reshape(img, [1,64,64,3])\n",
    "    prediction = model.predict(img)\n",
    "    print(labels[str(prediction.argmax())])"
   ]
  },
  {
   "cell_type": "code",
   "execution_count": 14,
   "metadata": {},
   "outputs": [
    {
     "name": "stdout",
     "output_type": "stream",
     "text": [
      "AnnualCrop\n"
     ]
    }
   ],
   "source": [
    "file = '/Users/shiqinchoo/Desktop/satellite/pas/Pasture_3.jpg'\n",
    "\n",
    "cv_read(file)"
   ]
  }
 ],
 "metadata": {
  "kernelspec": {
   "display_name": "Python 3",
   "language": "python",
   "name": "python3"
  },
  "language_info": {
   "codemirror_mode": {
    "name": "ipython",
    "version": 3
   },
   "file_extension": ".py",
   "mimetype": "text/x-python",
   "name": "python",
   "nbconvert_exporter": "python",
   "pygments_lexer": "ipython3",
   "version": "3.6.8"
  }
 },
 "nbformat": 4,
 "nbformat_minor": 2
}
