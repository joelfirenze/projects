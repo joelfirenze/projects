{
 "cells": [
  {
   "cell_type": "code",
   "execution_count": 3,
   "metadata": {},
   "outputs": [
    {
     "name": "stdout",
     "output_type": "stream",
     "text": [
      "['Forest', 'River', 'Highway', 'AnnualCrop', 'SeaLake', 'HerbaceousVegetation', 'Industrial', 'Residential', 'PermanentCrop', 'Pasture']\n"
     ]
    }
   ],
   "source": [
    "import os\n",
    "files_list = os.listdir('/Users/shiqinchoo/Desktop/satellite/rgb')\n",
    "print (files_list)"
   ]
  },
  {
   "cell_type": "code",
   "execution_count": 6,
   "metadata": {},
   "outputs": [
    {
     "data": {
      "text/plain": [
       "['/Users/shiqinchoo/Desktop/satellite/rgb/Forest',\n",
       " '/Users/shiqinchoo/Desktop/satellite/rgb/River',\n",
       " '/Users/shiqinchoo/Desktop/satellite/rgb/Highway',\n",
       " '/Users/shiqinchoo/Desktop/satellite/rgb/AnnualCrop',\n",
       " '/Users/shiqinchoo/Desktop/satellite/rgb/SeaLake',\n",
       " '/Users/shiqinchoo/Desktop/satellite/rgb/HerbaceousVegetation',\n",
       " '/Users/shiqinchoo/Desktop/satellite/rgb/Industrial',\n",
       " '/Users/shiqinchoo/Desktop/satellite/rgb/Residential',\n",
       " '/Users/shiqinchoo/Desktop/satellite/rgb/PermanentCrop',\n",
       " '/Users/shiqinchoo/Desktop/satellite/rgb/Pasture']"
      ]
     },
     "execution_count": 6,
     "metadata": {},
     "output_type": "execute_result"
    }
   ],
   "source": [
    "path = '/Users/shiqinchoo/Desktop/satellite/rgb/'\n",
    "folders_list = []\n",
    "for i in range(len(files_list)):\n",
    "  folder_name = path + files_list[i]\n",
    "  folders_list.append(folder_name)\n",
    "\n",
    "folders_list"
   ]
  },
  {
   "cell_type": "code",
   "execution_count": 7,
   "metadata": {},
   "outputs": [
    {
     "data": {
      "text/plain": [
       "[3000, 2500, 2500, 3000, 3000, 3000, 2500, 3000, 2500, 2000]"
      ]
     },
     "execution_count": 7,
     "metadata": {},
     "output_type": "execute_result"
    }
   ],
   "source": [
    "folder_length = []\n",
    "for i in range(len(folders_list)):\n",
    "  length = len(os.listdir(folders_list[i]))\n",
    "  folder_length.append(length)\n",
    "\n",
    "folder_length"
   ]
  },
  {
   "cell_type": "code",
   "execution_count": 8,
   "metadata": {},
   "outputs": [],
   "source": [
    "import json #create the json\n",
    "import shutil #copy images to train, test and valid dirs\n",
    "import os #files and dirs manipulation\n",
    "import math #split calculate"
   ]
  },
  {
   "cell_type": "code",
   "execution_count": 9,
   "metadata": {},
   "outputs": [],
   "source": [
    "parent_dir = '/Users/shiqinchoo/Desktop/satellite/rgb/'"
   ]
  },
  {
   "cell_type": "code",
   "execution_count": 10,
   "metadata": {},
   "outputs": [
    {
     "name": "stdout",
     "output_type": "stream",
     "text": [
      "Forest\n",
      "River\n",
      "Highway\n",
      "AnnualCrop\n",
      "SeaLake\n",
      "HerbaceousVegetation\n",
      "Industrial\n",
      "Residential\n",
      "PermanentCrop\n",
      "Pasture\n"
     ]
    }
   ],
   "source": [
    "os.chdir(parent_dir)\n",
    "category_list = list(filter(lambda x: os.path.isdir(x), os.listdir()))\n",
    "for category in category_list:\n",
    " print(category)"
   ]
  },
  {
   "cell_type": "code",
   "execution_count": 11,
   "metadata": {},
   "outputs": [],
   "source": [
    "data_set_dirs= ['train','test']\n",
    "for dsdirs in data_set_dirs:\n",
    " path = parent_dir + '/'+ dsdirs\n",
    " os.mkdir( path,755 )"
   ]
  },
  {
   "cell_type": "code",
   "execution_count": 12,
   "metadata": {},
   "outputs": [],
   "source": [
    "train_prop = 0.8\n",
    "test_prop = 1-train_prop"
   ]
  },
  {
   "cell_type": "code",
   "execution_count": 13,
   "metadata": {},
   "outputs": [],
   "source": [
    "#function to split data of each category into trainning, validation and testing set\n",
    "def create_dataset():\n",
    "  for ii,cat in enumerate(category_list): \n",
    "    src_path = parent_dir + '/' + cat\n",
    "    dest_dir1 = parent_dir+'/train/'+str(ii)\n",
    "    dest_dir2 = parent_dir+'/test/'+str(ii)\n",
    "    \n",
    "    dest_dirs_list = [dest_dir1,dest_dir2]\n",
    "    \n",
    "    for dirs in dest_dirs_list:\n",
    "      os.mkdir(dirs,755 )\n",
    "\n",
    "    #get files' names list from respective directories\n",
    "    os.chdir(src_path)\n",
    "    files = [f for f in os.listdir() if os.path.isfile(f)]\n",
    "\n",
    "    #get training, testing and validation files count\n",
    "    train_count = math.ceil(train_prop*len(files))\n",
    "    test_count = int(len(files)-train_count)\n",
    "\n",
    "    #get files to segragate for train and test data set\n",
    "    train_data_list = files[0: train_count]\n",
    "    test_data_list = files[train_count:]\n",
    "\n",
    "    for train_data in train_data_list:\n",
    "      train_path = src_path + '/' + train_data\n",
    "      shutil.copy(train_path,dest_dir1)\n",
    "\n",
    "    for test_data in test_data_list:\n",
    "      test_path = src_path + '/' + test_data\n",
    "      shutil.copy(test_path,dest_dir2)"
   ]
  },
  {
   "cell_type": "code",
   "execution_count": 14,
   "metadata": {},
   "outputs": [],
   "source": [
    "create_dataset()"
   ]
  },
  {
   "cell_type": "code",
   "execution_count": 16,
   "metadata": {},
   "outputs": [],
   "source": [
    "#save category data as dictionary in a json file\n",
    "cat_data = {}\n",
    "for ix,cat in enumerate(category_list):\n",
    " cat_data[ix] = cat\n",
    "with open('/Users/shiqinchoo/Desktop/satellite/rgb/cat_data.json', 'w') as outfile: \n",
    " json.dump(cat_data , outfile)"
   ]
  },
  {
   "cell_type": "code",
   "execution_count": 23,
   "metadata": {},
   "outputs": [
    {
     "data": {
      "text/plain": [
       "10"
      ]
     },
     "execution_count": 23,
     "metadata": {},
     "output_type": "execute_result"
    }
   ],
   "source": [
    "import os\n",
    "train_folder_length = []\n",
    "train_list = os.listdir('/Users/shiqinchoo/Desktop/satellite/rgb/train')\n",
    "\n",
    "len(train_list)"
   ]
  },
  {
   "cell_type": "code",
   "execution_count": 24,
   "metadata": {},
   "outputs": [
    {
     "data": {
      "text/plain": [
       "['/Users/shiqinchoo/Desktop/satellite/rgb/train9',\n",
       " '/Users/shiqinchoo/Desktop/satellite/rgb/train0',\n",
       " '/Users/shiqinchoo/Desktop/satellite/rgb/train7',\n",
       " '/Users/shiqinchoo/Desktop/satellite/rgb/train6',\n",
       " '/Users/shiqinchoo/Desktop/satellite/rgb/train1',\n",
       " '/Users/shiqinchoo/Desktop/satellite/rgb/train8',\n",
       " '/Users/shiqinchoo/Desktop/satellite/rgb/train4',\n",
       " '/Users/shiqinchoo/Desktop/satellite/rgb/train3',\n",
       " '/Users/shiqinchoo/Desktop/satellite/rgb/train2',\n",
       " '/Users/shiqinchoo/Desktop/satellite/rgb/train5']"
      ]
     },
     "execution_count": 24,
     "metadata": {},
     "output_type": "execute_result"
    }
   ],
   "source": [
    "path = '/Users/shiqinchoo/Desktop/satellite/rgb/train'\n",
    "train_folder_list = []\n",
    "for i in range(len(train_list)):\n",
    "  folder_name = path + train_list[i]\n",
    "  train_folder_list.append(folder_name)\n",
    "\n",
    "train_folder_list"
   ]
  },
  {
   "cell_type": "code",
   "execution_count": 26,
   "metadata": {},
   "outputs": [
    {
     "data": {
      "text/plain": [
       "10"
      ]
     },
     "execution_count": 26,
     "metadata": {},
     "output_type": "execute_result"
    }
   ],
   "source": [
    "import os\n",
    "test_list = os.listdir('/Users/shiqinchoo/Desktop/satellite/rgb/test')\n",
    "\n",
    "len(test_list)"
   ]
  },
  {
   "cell_type": "code",
   "execution_count": 27,
   "metadata": {},
   "outputs": [
    {
     "data": {
      "text/plain": [
       "['/Users/shiqinchoo/Desktop/satellite/rgb/test/9',\n",
       " '/Users/shiqinchoo/Desktop/satellite/rgb/test/0',\n",
       " '/Users/shiqinchoo/Desktop/satellite/rgb/test/7',\n",
       " '/Users/shiqinchoo/Desktop/satellite/rgb/test/6',\n",
       " '/Users/shiqinchoo/Desktop/satellite/rgb/test/1',\n",
       " '/Users/shiqinchoo/Desktop/satellite/rgb/test/8',\n",
       " '/Users/shiqinchoo/Desktop/satellite/rgb/test/4',\n",
       " '/Users/shiqinchoo/Desktop/satellite/rgb/test/3',\n",
       " '/Users/shiqinchoo/Desktop/satellite/rgb/test/2',\n",
       " '/Users/shiqinchoo/Desktop/satellite/rgb/test/5']"
      ]
     },
     "execution_count": 27,
     "metadata": {},
     "output_type": "execute_result"
    }
   ],
   "source": [
    "path = '/Users/shiqinchoo/Desktop/satellite/rgb/test/'\n",
    "test_folder_list = []\n",
    "for i in range(len(test_list)):\n",
    "  folder_name = path + test_list[i]\n",
    "  test_folder_list.append(folder_name)\n",
    "\n",
    "test_folder_list"
   ]
  }
 ],
 "metadata": {
  "kernelspec": {
   "display_name": "Python 3",
   "language": "python",
   "name": "python3"
  },
  "language_info": {
   "codemirror_mode": {
    "name": "ipython",
    "version": 3
   },
   "file_extension": ".py",
   "mimetype": "text/x-python",
   "name": "python",
   "nbconvert_exporter": "python",
   "pygments_lexer": "ipython3",
   "version": "3.6.8"
  }
 },
 "nbformat": 4,
 "nbformat_minor": 2
}
